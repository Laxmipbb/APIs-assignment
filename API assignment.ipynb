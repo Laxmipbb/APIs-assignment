{
 "cells": [
  {
   "cell_type": "code",
   "execution_count": 1,
   "id": "614b0316-2cbc-4287-aa38-53e4367c6406",
   "metadata": {},
   "outputs": [
    {
     "data": {
      "text/plain": [
       "\" APIs are mechanisms that enable two software component to communicate with each other using a set of definitions and protocol.\\n    Example of APIs are -  the weather bureau's software system contains daily weather data. The weather app on your phone 'talk' to this system.\\n    API is used in real life -  Smart devices and automation , create new services and application , communication in distributed system , business growth and collaboration.\""
      ]
     },
     "execution_count": 1,
     "metadata": {},
     "output_type": "execute_result"
    }
   ],
   "source": [
    "\"\"\" APIs are mechanisms that enable two software component to communicate with each other using a set of definitions and protocol.\n",
    "    Example of APIs are -  the weather bureau's software system contains daily weather data. The weather app on your phone 'talk' to this system.\n",
    "    API is used in real life -  Smart devices and automation , create new services and application , communication in distributed system , business growth and collaboration.\"\"\""
   ]
  },
  {
   "cell_type": "code",
   "execution_count": 3,
   "id": "e6c5f874-ea8b-425b-a19a-b576cc2d3430",
   "metadata": {},
   "outputs": [
    {
     "data": {
      "text/plain": [
       "\" Advantages of using APIs are - Efficiency : When you have content that is automatically published and made available on different channnels simultaneosly,\\n    APIs allow for more efficient data distribution.\\n    Adaptability - APIs is the ability it has to adapt to changes through data migration and flexibility of services.\\n    \\n    Disadvantages of using APIs are - As a single point of entry, an API  is a gateway and can become a hacker's primary target.\""
      ]
     },
     "execution_count": 3,
     "metadata": {},
     "output_type": "execute_result"
    }
   ],
   "source": [
    "\"\"\" Advantages of using APIs are - Efficiency : When you have content that is automatically published and made available on different channnels simultaneosly,\n",
    "    APIs allow for more efficient data distribution.\n",
    "    Adaptability - APIs is the ability it has to adapt to changes through data migration and flexibility of services.\n",
    "    \n",
    "    Disadvantages of using APIs are - As a single point of entry, an API  is a gateway and can become a hacker's primary target.\"\"\""
   ]
  },
  {
   "cell_type": "code",
   "execution_count": 4,
   "id": "2424d2a2-405f-4700-9729-e70b61a39346",
   "metadata": {},
   "outputs": [
    {
     "data": {
      "text/plain": [
       "' Web API is an application programming interface for the web .\\n    Web API is an extensible framework for building HTTP based services that can be accessed in different applications on different platforms such as web , windows , mobile etc.\\n    \\n    Difference between APIs and Web APIs-\\n    APIs - MediaTypeFormatter into XML, JSON.\\n           light weight architecture.\\n           used for any style of communication.\\n           it provide support for HTTP/s protocol:URL Request/Response Headers etc.\\n           \\n    Web serviced - it support XML.\\n                   SOAP protocol to send or receive and data over the network.\\n                   three style - REST , SOAP , XML RPC for communication.\\n                   it supports only for the HTTP protocol.'"
      ]
     },
     "execution_count": 4,
     "metadata": {},
     "output_type": "execute_result"
    }
   ],
   "source": [
    "\"\"\" Web API is an application programming interface for the web .\n",
    "    Web API is an extensible framework for building HTTP based services that can be accessed in different applications on different platforms such as web , windows , mobile etc.\n",
    "    \n",
    "    Difference between APIs and Web APIs-\n",
    "    APIs - MediaTypeFormatter into XML, JSON.\n",
    "           light weight architecture.\n",
    "           used for any style of communication.\n",
    "           it provide support for HTTP/s protocol:URL Request/Response Headers etc.\n",
    "           \n",
    "    Web serviced - it support XML.\n",
    "                   SOAP protocol to send or receive and data over the network.\n",
    "                   three style - REST , SOAP , XML RPC for communication.\n",
    "                   it supports only for the HTTP protocol.\"\"\"\n",
    "     "
   ]
  },
  {
   "cell_type": "code",
   "execution_count": 5,
   "id": "6c2cfb31-f2bb-4736-9f93-4dc74abe5e14",
   "metadata": {},
   "outputs": [
    {
     "data": {
      "text/plain": [
       "\"SOAP  stands for Simple Object Access Protocol whereas REST  stands for Representational State Transfer.\\n   SOAP is a protocol whereas REST is an architectural pattern.\\n   SOAP uses service interfaces tp expose its functionality to client application while REST uses uniform service locators to acces to the components on the hardware device.\\n   SOAP needs more bandwidth whereas REST doesn't need much bandwidth.\\n   SOAP cannot make use of REST whereas REST can make use of SOAP.\\n   \\n   Shortcoming of SOAP is cloud computing and only allows for XML.\""
      ]
     },
     "execution_count": 5,
     "metadata": {},
     "output_type": "execute_result"
    }
   ],
   "source": [
    "\"\"\"SOAP  stands for Simple Object Access Protocol whereas REST  stands for Representational State Transfer.\n",
    "   SOAP is a protocol whereas REST is an architectural pattern.\n",
    "   SOAP uses service interfaces tp expose its functionality to client application while REST uses uniform service locators to acces to the components on the hardware device.\n",
    "   SOAP needs more bandwidth whereas REST doesn't need much bandwidth.\n",
    "   SOAP cannot make use of REST whereas REST can make use of SOAP.\n",
    "   \n",
    "   Shortcoming of SOAP is cloud computing and only allows for XML.\"\"\"\n",
    "   "
   ]
  },
  {
   "cell_type": "code",
   "execution_count": null,
   "id": "b490f616-60e5-495a-8933-69f8b54869cd",
   "metadata": {},
   "outputs": [],
   "source": [
    "\"\"\" Difference betwwen SOAP and REST is SOAP is a protocol , it defines its own security measures . REST only inherits "
   ]
  }
 ],
 "metadata": {
  "kernelspec": {
   "display_name": "Python 3 (ipykernel)",
   "language": "python",
   "name": "python3"
  },
  "language_info": {
   "codemirror_mode": {
    "name": "ipython",
    "version": 3
   },
   "file_extension": ".py",
   "mimetype": "text/x-python",
   "name": "python",
   "nbconvert_exporter": "python",
   "pygments_lexer": "ipython3",
   "version": "3.10.8"
  }
 },
 "nbformat": 4,
 "nbformat_minor": 5
}
